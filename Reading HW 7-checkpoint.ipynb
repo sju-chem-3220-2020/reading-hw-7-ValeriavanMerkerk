{
 "cells": [
  {
   "cell_type": "markdown",
   "metadata": {},
   "source": [
    "# Reading HW7"
   ]
  },
  {
   "cell_type": "markdown",
   "metadata": {},
   "source": [
    "sections 7.1-7.5,8.1-8.8"
   ]
  },
  {
   "cell_type": "markdown",
   "metadata": {},
   "source": [
    "**7.1:Real Gases and Ideal Gases**"
   ]
  },
  {
   "cell_type": "markdown",
   "metadata": {},
   "source": [
    "Two main deficiencies in themicroscopic model:\n",
    "\n",
    "- gas molecules are point masses. However, molecules occupy a finite volume; therefore, a real gas cannot be compressed to a volume that is less than the total molecular volume\n",
    "    \n",
    "- molecules in the gas do not interact, but molecules in a real gas do interact with one another through a potential "
   ]
  },
  {
   "cell_type": "markdown",
   "metadata": {},
   "source": [
    "**7.2:Equations of State for Real Gases and Their Range of Applicability**"
   ]
  },
  {
   "cell_type": "markdown",
   "metadata": {},
   "source": [
    "The are several equations that describe real gases like the van der waals equation of state and the Redlich-Kowng equation of state. However the equation that best fits the gas depends on the gas itself. \n",
    "\n",
    "- The principal limitation of the ideal gas law is that it does not predict that a gas can be liquefied under appropriate conditions (because a real gas has volume). \n",
    "- Critical temperature: the temperature range of Vm has shrunk to a single value. At inflection point(where T= Tc):\n",
    "\n",
    "- ($\\partial$P / $\\partial$Vm)=0 and ($\\partial$^2P / $\\partial$Vm^2)\n",
    "- With this information we can say that as density of the liquid decrease the density of the gas increases at T = Tc"
   ]
  },
  {
   "cell_type": "markdown",
   "metadata": {},
   "source": [
    "**7.3:The Compression Factor**"
   ]
  },
  {
   "cell_type": "markdown",
   "metadata": {},
   "source": [
    "Compression factor, z, is used to address how large the error in P-V curves if the ideal gas law is used. For an ideal gas z= 1. If z>1 the real gas exerts more pressure than the ideal gas. z<1 the real gas exerts less pressure than the ideal gas. "
   ]
  },
  {
   "cell_type": "markdown",
   "metadata": {},
   "source": [
    "z= Vm / Vm ideal = PV m / RT"
   ]
  },
  {
   "cell_type": "markdown",
   "metadata": {},
   "source": [
    "van der Waals equation to determine why low pressure value of the compression factor varies with temprature of the given gas:\n",
    "- ($\\partial$z/ $\\partial$P)T = ( $\\partial$z / $\\partial$[RT/Vm])T = 1/RT ($\\partial$z / $\\partial$[1/Vm])T\n",
    "- for a van der Waals gas in the ideal gas limit as 1/Vm -> 0, therefore: ($\\partial$z/ $\\partial$P)T = b/RT - a/ (RT)^2"
   ]
  },
  {
   "cell_type": "markdown",
   "metadata": {},
   "source": [
    "-  the van der Waals equation predicts that the initial slope of the z versus P curve is zero if b=a/ RT . The corresponding temperature is known as the Boyle temperature, Tb :\n",
    "Tb =a / Rb. Because the parameters a and b are substance dependent, is different for each gas\n"
   ]
  },
  {
   "cell_type": "markdown",
   "metadata": {},
   "source": [
    "- if the limit as P approaches to 0 ($\\partial$z/ $\\partial$P)T<0 for a particular gar, T< TB, and the attrative part of the potential dominates. and vice versa T>TB"
   ]
  },
  {
   "cell_type": "markdown",
   "metadata": {},
   "source": [
    "**7.4:The Law of Corresponding States**"
   ]
  },
  {
   "cell_type": "markdown",
   "metadata": {},
   "source": [
    "Different gases have the same equation of state if each gas is described by the dimensionless reduced variables Tr= T/Tc , Pr= P/Pc , and , rather than by T, P, and Vm.\n"
   ]
  },
  {
   "cell_type": "markdown",
   "metadata": {},
   "source": [
    "- van der Waals equation form (LCS):\n",
    "PrPc= RTrTC / Vmr Vmc-b  - a / Vmr^2 Vmc^2 \n",
    "- Pr = 8tr / 3mr - 1 - 3/ V^2mr"
   ]
  },
  {
   "cell_type": "markdown",
   "metadata": {},
   "source": [
    "The law of corresponding states implicitly assumes that two parameters are sufficient to describe an intermolecular potential. This assumption is best for molecules that are nearly spherical, because for such molecules the potential is independent of the molecular orientation"
   ]
  },
  {
   "cell_type": "markdown",
   "metadata": {},
   "source": [
    "Error = 100%( z-1/ z)"
   ]
  },
  {
   "cell_type": "markdown",
   "metadata": {},
   "source": [
    "**7.5: Fugacity and the Equilibrium Constant for Real Gases**"
   ]
  },
  {
   "cell_type": "markdown",
   "metadata": {},
   "source": [
    "- ideal gas: $\\mu$ (T,P) = $\\mu$o (T) + RT ln P/ Po\n",
    "- real gas:$\\mu$ (T,P) = $\\mu$o (T) + RT ln f/ fo\n",
    "- f = furgacity, can be viewed as the effective pressure that a real gas exerts. f<P\n",
    "- ln f=  $\\int_Po ^ P$ z-1/P' or  f= P exp [ $\\int_Po ^ P$ (z-1/P')dP'] or f = $\\gamma$ (P,T)P      \n",
    "- $\\gamma$ = fugacity coefficient (not a constant, depends on P and T)"
   ]
  },
  {
   "cell_type": "markdown",
   "metadata": {},
   "source": [
    "**8.1:What determines the relative stability of the solid, liquid and gas phases?**"
   ]
  },
  {
   "cell_type": "markdown",
   "metadata": {},
   "source": [
    "- Phase refers to a form of matter that is uniform with respect to chemical composition and the state of aggregation on both microscopic and macroscopic length scales. \n",
    "- phases: solid, liquid, and gas\n",
    "- Although a substance may exist in several different solid phases, it can only exist in a single gaseous state.\n",
    "- the solid phase is the most stable state of a substance at sufficiently low temperatures, and that the gas phase is the most stable state of a substance at sufficiently high temperatures."
   ]
  },
  {
   "cell_type": "markdown",
   "metadata": {},
   "source": [
    "($\\mu$ / T) P = -Sm and ($\\mu$ / P) T = Vm\n",
    "- Because Sm and Vm are always positive, decreases as the temperature increases, and it increases as the pressure increases\n",
    "- Entropy: Sm gas> Sm liquid > Sm Solid"
   ]
  },
  {
   "cell_type": "markdown",
   "metadata": {},
   "source": [
    "**8.2:The Pressure-temperature Phase diagram**"
   ]
  },
  {
   "cell_type": "markdown",
   "metadata": {},
   "source": [
    "- Although any two of the macroscopic system variables P, V, and T can be used to construct a phase diagram, the diagram is particularly useful. In this section, the features of a phase diagram that are common to pure substances are discussed\n",
    "- The P–T phase diagram displays stability regions for a pure substance as a function of pressure and temperature.\n",
    "- The triple point of water is 273.16 K and 611 Pa. All P, T points for which the same two phases coexist at equilibrium fall on a curve. Such a curve is called a coexistence curve.\n",
    "- standard boiling temperature: is the temperature at which the vapor pressure of the substance is 1 bar\n",
    "- normal boiling temperature: is the temperature at which the vapor pressure of the substance is 1 atm.\n",
    "- If the solid is more dense than the liquid, the slope of this curve is positive, and the melting temperature increases with pressure.If the solid is less dense than the liquid, the slope is negative and the melting temperature decreases with pressure. \n",
    "- the boiling point is a much stronger function of the pressure than the freezing point. The boiling point always increases with pressure. \n",
    "- The solid–gas coexistence curve ends at the triple point. Whereas the liquid–solid coexistence curve extends indefinitely, the liquid–gas curve ends at the critical point, characterized by T= Tc and P= Pc. For T>Tc and P>Pc. \n",
    "- supercritical fluids: T>Tc and P>Pc\n",
    "- The temperature again increases linearly with qP and $\\Delta$ T until the boiling point is reached\n",
    "- $\\Delta$ H = $\\Delta$H sublimation= $\\Delta$ Fusion + $\\Delta$H vaporization"
   ]
  },
  {
   "cell_type": "markdown",
   "metadata": {},
   "source": [
    "**8.3:The Phase Rule**"
   ]
  },
  {
   "cell_type": "markdown",
   "metadata": {},
   "source": [
    "- coexistence of two phases means:\n",
    "$\\mu$ $\\alpha$ (T,P) = $\\mu$ $\\beta$ (T,P) = $\\mu$ $\\gamma$ (T,P)\n",
    "\n",
    "- phase rule: links the number of degrees of freedom to the number of phases in a system at equilibrium\n",
    "- for a pure substance: F= 3 - p, where F is the # of degrees of freedom and p is the number of phases.\n",
    "- Gibbs proved that no more than three phases of a pure substance can be in equilibrium as F cannot be a negative number."
   ]
  },
  {
   "cell_type": "markdown",
   "metadata": {},
   "source": [
    "**8.4:The Pressure- Volume and Pressure-Volume-Temprature Phase Diagrams**"
   ]
  },
  {
   "cell_type": "markdown",
   "metadata": {},
   "source": [
    "- Significant differences are seen in the way that two- and three-phase coexistence are represented in the two-phase diagrams. The two-phase coexistence curves of the P-T phase diagram become two-phase regions in the phase diagram because the volume of a system in which two phases coexist varies with the relative amounts of the material in each phase. \n",
    "- For pressures well below the critical point, the range in V over which the gas and liquid coexist is large compared to the range in V over which the solid and liquid coexist, because Vm solid< Vm liquid<< Vm gas.Therefore, the gas–liquid coexistence region is broader than the solid–liquid coexistence region/\n",
    "- All the information on the values of P,V, and Tcorresponding to single-phase regions, two-phase regions, and the triple point displayed in the P–T and P–V phase diagrams is best displayed in a three-dimensional P–V–Tphase diagram.\n"
   ]
  },
  {
   "cell_type": "markdown",
   "metadata": {},
   "source": [
    "**8.5:Providing a Theoretical Basis for the P-T Phase Diagram**"
   ]
  },
  {
   "cell_type": "markdown",
   "metadata": {},
   "source": [
    "Clapeyron equation:\n",
    "- dP/dT = $\\delta$ Sm / $\\delta$ Vm\n",
    "- The Clapeyron equation allows us to calculate the slope of the coexistence curves in a P–T phase diagram.\n",
    "- then $\\delta$ G fusion= $\\delta$ H fusion - T$\\delta$ S fusion = 0. (Therefore, the values $\\delta$ Sm for the fusion transition can be calculated from the enthalpy of fusion and the fusion temperature. Values of the normal fusion and vaporization temperatures, as well as $\\delta$ H mfor fusion and vaporization"
   ]
  },
  {
   "cell_type": "markdown",
   "metadata": {},
   "source": [
    "**8.6:Using the Clausius- Clapeyron Equation to calculate Vapor Pressure as a Function of T**"
   ]
  },
  {
   "cell_type": "markdown",
   "metadata": {},
   "source": [
    "-  dP/ dT = $\\delta$ S vap/  $\\delta$ V vap\n",
    "- dP/ P = $\\delta$ H vap/R dT/T^2\n",
    "- ln Pf/Pi = - $\\delta$ H vap/R * (1/Tf - 1/Ti)"
   ]
  },
  {
   "cell_type": "markdown",
   "metadata": {},
   "source": [
    "**8.7: The vapor Presure of a Pure substance depends on the applied pressure**"
   ]
  },
  {
   "cell_type": "markdown",
   "metadata": {},
   "source": [
    "- RT ln (P/ P*)= Vm Liquid (P- P*), where P= sum pf partial pressures, P* specific to the liquid."
   ]
  },
  {
   "cell_type": "markdown",
   "metadata": {},
   "source": [
    "**8.8: Surface Tension**"
   ]
  },
  {
   "cell_type": "markdown",
   "metadata": {},
   "source": [
    "- In the absence of a gravitational field, a liquid droplet will assume a spherical shape, because in this geometry the maximum number of molecules is surrounded by neighboring molecules. Because the interaction between molecules in a liquid is attractive, minimizing the surface-to-volume ratio minimizes the energy.\n",
    "- The work associated with the creation of additional surface area at constant V and T is : dA = $\\gamma$d$\\sigma$\n",
    "- The net effect of this force is to generate a pressure differential across the droplet surface. At equilibrium, there is a balance between the inward and outward acting forces: P inner = P outer + 2 $\\gamma$/ r\n",
    "- Capillary rise and Capillary depression, consequences of the pressure differential across a curved surface. Given by: h = 2$\\gamma$ / pgr \n",
    "- Complete wetting angle= 0 and nonwetting angle= 180. Intermdeiate cases: P inner = P outer + 2 $\\gamma$/ Cos Angle/ r and h = 2 $\\gamma$cos angle/ pgr"
   ]
  },
  {
   "cell_type": "code",
   "execution_count": null,
   "metadata": {},
   "outputs": [],
   "source": []
  }
 ],
 "metadata": {
  "kernelspec": {
   "display_name": "Python 3",
   "language": "python",
   "name": "python3"
  },
  "language_info": {
   "codemirror_mode": {
    "name": "ipython",
    "version": 3
   },
   "file_extension": ".py",
   "mimetype": "text/x-python",
   "name": "python",
   "nbconvert_exporter": "python",
   "pygments_lexer": "ipython3",
   "version": "3.7.6"
  }
 },
 "nbformat": 4,
 "nbformat_minor": 4
}
